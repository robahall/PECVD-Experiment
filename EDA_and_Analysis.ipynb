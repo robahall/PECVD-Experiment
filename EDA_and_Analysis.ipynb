{
 "cells": [
  {
   "cell_type": "code",
   "execution_count": 1,
   "metadata": {
    "collapsed": true
   },
   "outputs": [],
   "source": [
    "# Basic SciPy packages\n",
    "import numpy as np\n",
    "import pandas as pd\n",
    "\n",
    "# Stats Packages\n",
    "from scipy import stats\n",
    "\n",
    "# Graphing packages\n",
    "import matplotlib.pyplot as plt\n",
    "import seaborn as sns\n",
    "sns.set_style(\"whitegrid\")\n",
    "%matplotlib inline\n",
    "# %matplotlib tk\n",
    "\n",
    "#Load my random dataset\n",
    "import CreateDataSet"
   ]
  },
  {
   "cell_type": "markdown",
   "metadata": {},
   "source": [
    "## Generate Dataset"
   ]
  },
  {
   "cell_type": "code",
   "execution_count": 2,
   "metadata": {
    "collapsed": true
   },
   "outputs": [],
   "source": [
    "#cvd_dataset = CreateDataSet.make_cvd_dataset()"
   ]
  },
  {
   "cell_type": "code",
   "execution_count": 3,
   "metadata": {},
   "outputs": [
    {
     "data": {
      "text/html": [
       "<div>\n",
       "<style>\n",
       "    .dataframe thead tr:only-child th {\n",
       "        text-align: right;\n",
       "    }\n",
       "\n",
       "    .dataframe thead th {\n",
       "        text-align: left;\n",
       "    }\n",
       "\n",
       "    .dataframe tbody tr th {\n",
       "        vertical-align: top;\n",
       "    }\n",
       "</style>\n",
       "<table border=\"1\" class=\"dataframe\">\n",
       "  <thead>\n",
       "    <tr style=\"text-align: right;\">\n",
       "      <th></th>\n",
       "      <th>RunID</th>\n",
       "      <th>Power</th>\n",
       "      <th>GrowthRate</th>\n",
       "    </tr>\n",
       "  </thead>\n",
       "  <tbody>\n",
       "    <tr>\n",
       "      <th>0</th>\n",
       "      <td>1</td>\n",
       "      <td>8</td>\n",
       "      <td>5002.320019</td>\n",
       "    </tr>\n",
       "    <tr>\n",
       "      <th>1</th>\n",
       "      <td>2</td>\n",
       "      <td>8</td>\n",
       "      <td>5003.601457</td>\n",
       "    </tr>\n",
       "    <tr>\n",
       "      <th>2</th>\n",
       "      <td>3</td>\n",
       "      <td>8</td>\n",
       "      <td>5001.024675</td>\n",
       "    </tr>\n",
       "    <tr>\n",
       "      <th>3</th>\n",
       "      <td>4</td>\n",
       "      <td>8</td>\n",
       "      <td>5001.576370</td>\n",
       "    </tr>\n",
       "    <tr>\n",
       "      <th>4</th>\n",
       "      <td>1</td>\n",
       "      <td>10</td>\n",
       "      <td>5070.505941</td>\n",
       "    </tr>\n",
       "    <tr>\n",
       "      <th>5</th>\n",
       "      <td>2</td>\n",
       "      <td>10</td>\n",
       "      <td>5053.803062</td>\n",
       "    </tr>\n",
       "    <tr>\n",
       "      <th>6</th>\n",
       "      <td>3</td>\n",
       "      <td>10</td>\n",
       "      <td>5050.102792</td>\n",
       "    </tr>\n",
       "    <tr>\n",
       "      <th>7</th>\n",
       "      <td>4</td>\n",
       "      <td>10</td>\n",
       "      <td>5050.176954</td>\n",
       "    </tr>\n",
       "    <tr>\n",
       "      <th>8</th>\n",
       "      <td>1</td>\n",
       "      <td>12</td>\n",
       "      <td>5110.123564</td>\n",
       "    </tr>\n",
       "    <tr>\n",
       "      <th>9</th>\n",
       "      <td>2</td>\n",
       "      <td>12</td>\n",
       "      <td>5100.022294</td>\n",
       "    </tr>\n",
       "    <tr>\n",
       "      <th>10</th>\n",
       "      <td>3</td>\n",
       "      <td>12</td>\n",
       "      <td>5108.673395</td>\n",
       "    </tr>\n",
       "    <tr>\n",
       "      <th>11</th>\n",
       "      <td>4</td>\n",
       "      <td>12</td>\n",
       "      <td>5100.200780</td>\n",
       "    </tr>\n",
       "    <tr>\n",
       "      <th>12</th>\n",
       "      <td>1</td>\n",
       "      <td>14</td>\n",
       "      <td>5163.853637</td>\n",
       "    </tr>\n",
       "    <tr>\n",
       "      <th>13</th>\n",
       "      <td>2</td>\n",
       "      <td>14</td>\n",
       "      <td>5153.563207</td>\n",
       "    </tr>\n",
       "    <tr>\n",
       "      <th>14</th>\n",
       "      <td>3</td>\n",
       "      <td>14</td>\n",
       "      <td>5175.444188</td>\n",
       "    </tr>\n",
       "    <tr>\n",
       "      <th>15</th>\n",
       "      <td>4</td>\n",
       "      <td>14</td>\n",
       "      <td>5153.171650</td>\n",
       "    </tr>\n",
       "  </tbody>\n",
       "</table>\n",
       "</div>"
      ],
      "text/plain": [
       "    RunID  Power   GrowthRate\n",
       "0       1      8  5002.320019\n",
       "1       2      8  5003.601457\n",
       "2       3      8  5001.024675\n",
       "3       4      8  5001.576370\n",
       "4       1     10  5070.505941\n",
       "5       2     10  5053.803062\n",
       "6       3     10  5050.102792\n",
       "7       4     10  5050.176954\n",
       "8       1     12  5110.123564\n",
       "9       2     12  5100.022294\n",
       "10      3     12  5108.673395\n",
       "11      4     12  5100.200780\n",
       "12      1     14  5163.853637\n",
       "13      2     14  5153.563207\n",
       "14      3     14  5175.444188\n",
       "15      4     14  5153.171650"
      ]
     },
     "execution_count": 3,
     "metadata": {},
     "output_type": "execute_result"
    }
   ],
   "source": [
    "## Save dataset to csv to lock it in. \n",
    "# cvd_dataset.to_csv(\"CVD_Dataset_EDA_ANOVA.csv\", index = False)\n",
    "cvd_dataset = pd.read_csv(\"CVD_Dataset_EDA_ANOVA.csv\")\n",
    "cvd_dataset "
   ]
  },
  {
   "cell_type": "markdown",
   "metadata": {},
   "source": [
    "## EDA"
   ]
  },
  {
   "cell_type": "code",
   "execution_count": 4,
   "metadata": {},
   "outputs": [
    {
     "data": {
      "image/png": "[encoded data removed]",
      "text/plain": [
       "<matplotlib.figure.Figure at 0x10efd5be0>"
      ]
     },
     "metadata": {},
     "output_type": "display_data"
    }
   ],
   "source": [
    "## Create a box plot with updated labels. \n",
    "boxplot_for_CVD = sns.boxplot(x = \"Power\", y = \"GrowthRate\", data = cvd_dataset)\n",
    "plt.xlabel(r\"Power (W)\")\n",
    "plt.ylabel(r\"Growth Rate ($\\AA$ /min)\")\n",
    "\n",
    "plt.savefig('boxplot_for_CVD.png')"
   ]
  },
  {
   "cell_type": "code",
   "execution_count": 5,
   "metadata": {
    "collapsed": true
   },
   "outputs": [],
   "source": [
    "## Create my own ANOVA\n",
    "cvd_dataset_initial = cvd_dataset"
   ]
  },
  {
   "cell_type": "code",
   "execution_count": 6,
   "metadata": {},
   "outputs": [
    {
     "data": {
      "text/html": [
       "<div>\n",
       "<style>\n",
       "    .dataframe thead tr:only-child th {\n",
       "        text-align: right;\n",
       "    }\n",
       "\n",
       "    .dataframe thead th {\n",
       "        text-align: left;\n",
       "    }\n",
       "\n",
       "    .dataframe tbody tr th {\n",
       "        vertical-align: top;\n",
       "    }\n",
       "</style>\n",
       "<table border=\"1\" class=\"dataframe\">\n",
       "  <thead>\n",
       "    <tr style=\"text-align: right;\">\n",
       "      <th></th>\n",
       "      <th>RunID</th>\n",
       "      <th>Power</th>\n",
       "      <th>GrowthRate</th>\n",
       "    </tr>\n",
       "  </thead>\n",
       "  <tbody>\n",
       "    <tr>\n",
       "      <th>0</th>\n",
       "      <td>1</td>\n",
       "      <td>8</td>\n",
       "      <td>5002.320019</td>\n",
       "    </tr>\n",
       "    <tr>\n",
       "      <th>1</th>\n",
       "      <td>2</td>\n",
       "      <td>8</td>\n",
       "      <td>5003.601457</td>\n",
       "    </tr>\n",
       "    <tr>\n",
       "      <th>2</th>\n",
       "      <td>3</td>\n",
       "      <td>8</td>\n",
       "      <td>5001.024675</td>\n",
       "    </tr>\n",
       "    <tr>\n",
       "      <th>3</th>\n",
       "      <td>4</td>\n",
       "      <td>8</td>\n",
       "      <td>5001.576370</td>\n",
       "    </tr>\n",
       "    <tr>\n",
       "      <th>4</th>\n",
       "      <td>1</td>\n",
       "      <td>10</td>\n",
       "      <td>5070.505941</td>\n",
       "    </tr>\n",
       "    <tr>\n",
       "      <th>5</th>\n",
       "      <td>2</td>\n",
       "      <td>10</td>\n",
       "      <td>5053.803062</td>\n",
       "    </tr>\n",
       "    <tr>\n",
       "      <th>6</th>\n",
       "      <td>3</td>\n",
       "      <td>10</td>\n",
       "      <td>5050.102792</td>\n",
       "    </tr>\n",
       "    <tr>\n",
       "      <th>7</th>\n",
       "      <td>4</td>\n",
       "      <td>10</td>\n",
       "      <td>5050.176954</td>\n",
       "    </tr>\n",
       "    <tr>\n",
       "      <th>8</th>\n",
       "      <td>1</td>\n",
       "      <td>12</td>\n",
       "      <td>5110.123564</td>\n",
       "    </tr>\n",
       "    <tr>\n",
       "      <th>9</th>\n",
       "      <td>2</td>\n",
       "      <td>12</td>\n",
       "      <td>5100.022294</td>\n",
       "    </tr>\n",
       "    <tr>\n",
       "      <th>10</th>\n",
       "      <td>3</td>\n",
       "      <td>12</td>\n",
       "      <td>5108.673395</td>\n",
       "    </tr>\n",
       "    <tr>\n",
       "      <th>11</th>\n",
       "      <td>4</td>\n",
       "      <td>12</td>\n",
       "      <td>5100.200780</td>\n",
       "    </tr>\n",
       "    <tr>\n",
       "      <th>12</th>\n",
       "      <td>1</td>\n",
       "      <td>14</td>\n",
       "      <td>5163.853637</td>\n",
       "    </tr>\n",
       "    <tr>\n",
       "      <th>13</th>\n",
       "      <td>2</td>\n",
       "      <td>14</td>\n",
       "      <td>5153.563207</td>\n",
       "    </tr>\n",
       "    <tr>\n",
       "      <th>14</th>\n",
       "      <td>3</td>\n",
       "      <td>14</td>\n",
       "      <td>5175.444188</td>\n",
       "    </tr>\n",
       "    <tr>\n",
       "      <th>15</th>\n",
       "      <td>4</td>\n",
       "      <td>14</td>\n",
       "      <td>5153.171650</td>\n",
       "    </tr>\n",
       "  </tbody>\n",
       "</table>\n",
       "</div>"
      ],
      "text/plain": [
       "    RunID  Power   GrowthRate\n",
       "0       1      8  5002.320019\n",
       "1       2      8  5003.601457\n",
       "2       3      8  5001.024675\n",
       "3       4      8  5001.576370\n",
       "4       1     10  5070.505941\n",
       "5       2     10  5053.803062\n",
       "6       3     10  5050.102792\n",
       "7       4     10  5050.176954\n",
       "8       1     12  5110.123564\n",
       "9       2     12  5100.022294\n",
       "10      3     12  5108.673395\n",
       "11      4     12  5100.200780\n",
       "12      1     14  5163.853637\n",
       "13      2     14  5153.563207\n",
       "14      3     14  5175.444188\n",
       "15      4     14  5153.171650"
      ]
     },
     "execution_count": 6,
     "metadata": {},
     "output_type": "execute_result"
    }
   ],
   "source": [
    "cvd_dataset_initial"
   ]
  },
  {
   "cell_type": "markdown",
   "metadata": {},
   "source": [
    "## Arrange data for analysis"
   ]
  },
  {
   "cell_type": "code",
   "execution_count": 7,
   "metadata": {},
   "outputs": [
    {
     "data": {
      "text/html": [
       "<div>\n",
       "<style>\n",
       "    .dataframe thead tr:only-child th {\n",
       "        text-align: right;\n",
       "    }\n",
       "\n",
       "    .dataframe thead th {\n",
       "        text-align: left;\n",
       "    }\n",
       "\n",
       "    .dataframe tbody tr th {\n",
       "        vertical-align: top;\n",
       "    }\n",
       "</style>\n",
       "<table border=\"1\" class=\"dataframe\">\n",
       "  <thead>\n",
       "    <tr style=\"text-align: right;\">\n",
       "      <th>Power</th>\n",
       "      <th>8</th>\n",
       "      <th>10</th>\n",
       "      <th>12</th>\n",
       "      <th>14</th>\n",
       "    </tr>\n",
       "    <tr>\n",
       "      <th>RunID</th>\n",
       "      <th></th>\n",
       "      <th></th>\n",
       "      <th></th>\n",
       "      <th></th>\n",
       "    </tr>\n",
       "  </thead>\n",
       "  <tbody>\n",
       "    <tr>\n",
       "      <th>1</th>\n",
       "      <td>5002.320019</td>\n",
       "      <td>5070.505941</td>\n",
       "      <td>5110.123564</td>\n",
       "      <td>5163.853637</td>\n",
       "    </tr>\n",
       "    <tr>\n",
       "      <th>2</th>\n",
       "      <td>5003.601457</td>\n",
       "      <td>5053.803062</td>\n",
       "      <td>5100.022294</td>\n",
       "      <td>5153.563207</td>\n",
       "    </tr>\n",
       "    <tr>\n",
       "      <th>3</th>\n",
       "      <td>5001.024675</td>\n",
       "      <td>5050.102792</td>\n",
       "      <td>5108.673395</td>\n",
       "      <td>5175.444188</td>\n",
       "    </tr>\n",
       "    <tr>\n",
       "      <th>4</th>\n",
       "      <td>5001.576370</td>\n",
       "      <td>5050.176954</td>\n",
       "      <td>5100.200780</td>\n",
       "      <td>5153.171650</td>\n",
       "    </tr>\n",
       "  </tbody>\n",
       "</table>\n",
       "</div>"
      ],
      "text/plain": [
       "Power           8            10           12           14\n",
       "RunID                                                    \n",
       "1      5002.320019  5070.505941  5110.123564  5163.853637\n",
       "2      5003.601457  5053.803062  5100.022294  5153.563207\n",
       "3      5001.024675  5050.102792  5108.673395  5175.444188\n",
       "4      5001.576370  5050.176954  5100.200780  5153.171650"
      ]
     },
     "execution_count": 7,
     "metadata": {},
     "output_type": "execute_result"
    }
   ],
   "source": [
    "cvd_pivot = cvd_dataset.pivot(index = 'RunID', columns = 'Power', values = 'GrowthRate')\n",
    "cvd_pivot"
   ]
  },
  {
   "cell_type": "markdown",
   "metadata": {},
   "source": [
    "## Compute DFs, Sums, MSs, and F-Value"
   ]
  },
  {
   "cell_type": "code",
   "execution_count": 8,
   "metadata": {
    "collapsed": true
   },
   "outputs": [],
   "source": [
    "def degrees_of_freedom(df_pivot):\n",
    "    ## Between samples is across the row\n",
    "    ## Within samples is down the column\n",
    "    n = df_pivot.count(axis=1) # Define number of replicates within treatment\n",
    "    a = df_pivot.count() # Determine number of treatments\n",
    "    n = n.iloc[0]\n",
    "    a = a.iloc[0]\n",
    "    \n",
    "    TotalN = n*a # Total number of datapoint\n",
    "    dft = a - 1 #dft is degrees of freedom between sample set\n",
    "    dfe = TotalN - a #dfe is degrees of freedom within samples\n",
    "    dftotal = TotalN-1 #dftotal is degrees of freedom total \n",
    "    return dft, dfe, dftotal, n, a "
   ]
  },
  {
   "cell_type": "code",
   "execution_count": 9,
   "metadata": {},
   "outputs": [
    {
     "name": "stdout",
     "output_type": "stream",
     "text": [
      "Degrees of freedom between treatments: 3\n",
      "Degrees of freedom within treatments: 12\n",
      "Total degrees of freedom: 15\n"
     ]
    }
   ],
   "source": [
    "dft, dfe, dftotal, n, a = degrees_of_freedom(cvd_pivot)\n",
    "\n",
    "print(\"Degrees of freedom between treatments: {:d}\".format(dft))\n",
    "print(\"Degrees of freedom within treatments: {:d}\".format(dfe))\n",
    "print(\"Total degrees of freedom: {:d}\".format(dftotal))"
   ]
  },
  {
   "cell_type": "code",
   "execution_count": 10,
   "metadata": {
    "collapsed": true
   },
   "outputs": [],
   "source": [
    "def compute_sums(df_pivot):\n",
    "    yi_sum = df_pivot.sum() # Compute sum under i-th treatment\n",
    "    yi_avg = df_pivot.mean() # Compute average under i-th treatment \n",
    "    y_sum = yi_sum.sum() # Compute grand sum\n",
    "    y_avg = yi_avg.mean() # Compute grand average\n",
    "    return yi_sum, yi_avg, y_sum, y_avg"
   ]
  },
  {
   "cell_type": "code",
   "execution_count": 11,
   "metadata": {},
   "outputs": [
    {
     "name": "stdout",
     "output_type": "stream",
     "text": [
      "The sum under each Power (W) treatment is: Power\n",
      "8     20008.522520\n",
      "10    20224.588749\n",
      "12    20419.020034\n",
      "14    20646.032682\n",
      "dtype: float64\n",
      "The average under each Power (W) treatment is: Power\n",
      "8     5002.130630\n",
      "10    5056.147187\n",
      "12    5104.755008\n",
      "14    5161.508171\n",
      "dtype: float64\n",
      "The grand sum is: 81298.16\n",
      "The grand average is: 5081.14\n"
     ]
    }
   ],
   "source": [
    "yi_sum, yi_avg, y_sum, y_avg = compute_sums(cvd_pivot) #retrieve respective sums \n",
    "\n",
    "print(r\"The sum under each Power (W) treatment is: {}\".format(yi_sum))\n",
    "print(r\"The average under each Power (W) treatment is: {}\".format(yi_avg))\n",
    "print(r\"The grand sum is: {:.2f}\".format(y_sum))\n",
    "print(r\"The grand average is: {:.2f}\".format(y_avg))"
   ]
  },
  {
   "cell_type": "code",
   "execution_count": 12,
   "metadata": {
    "collapsed": true
   },
   "outputs": [],
   "source": [
    "def Sum_of_Squares(yi_avg, y_avg, df_pivot):\n",
    "    SSTR = (yi_avg - y_avg)**2 #Calculate sum of squares between treatments\n",
    "    SSTR = SSTR.sum()*n\n",
    "    SSE = df_pivot.sub(yi_avg.values) ** 2 #Calculate sum of squares within treatments\n",
    "    SSE = SSE.sum().sum()\n",
    "    SST = SSTR + SSE # Total corrected sum of squares\n",
    "    return SSTR, SSE, SST"
   ]
  },
  {
   "cell_type": "code",
   "execution_count": 13,
   "metadata": {},
   "outputs": [
    {
     "name": "stdout",
     "output_type": "stream",
     "text": [
      "Sum of Squares between treaments is: 55535.33\n",
      "Sum of Squares within treaments is: 707.23\n",
      "Total Sum of Squares is: 56242.56\n"
     ]
    }
   ],
   "source": [
    "SSTR, SSE, SST = Sum_of_Squares(yi_avg,y_avg, cvd_pivot)\n",
    "print(\"Sum of Squares between treaments is: {:.2f}\".format(SSTR))\n",
    "print(\"Sum of Squares within treaments is: {:.2f}\".format(SSE))\n",
    "print(\"Total Sum of Squares is: {:.2f}\".format(SST))"
   ]
  },
  {
   "cell_type": "code",
   "execution_count": 14,
   "metadata": {
    "collapsed": true
   },
   "outputs": [],
   "source": [
    "def Mean_Squares(SSTR, SSE, dft, dfe):\n",
    "    MSTR = SSTR/(dft) ## Mean Square between Treatments\n",
    "    MSE = SSE/(dfe) ## Mean Square Error (within)\n",
    "    return MSTR, MSE"
   ]
  },
  {
   "cell_type": "code",
   "execution_count": 15,
   "metadata": {},
   "outputs": [
    {
     "name": "stdout",
     "output_type": "stream",
     "text": [
      "Mean squares between treaments is: 18511.78\n",
      "Mean squares within treaments is: 58.94\n"
     ]
    }
   ],
   "source": [
    "MSTR, MSE = Mean_Squares(SSTR, SSE, dft, dfe)\n",
    "\n",
    "print(\"Mean squares between treaments is: {:.2f}\".format(MSTR))\n",
    "print(\"Mean squares within treaments is: {:.2f}\".format(MSE))"
   ]
  },
  {
   "cell_type": "code",
   "execution_count": 28,
   "metadata": {},
   "outputs": [
    {
     "name": "stdout",
     "output_type": "stream",
     "text": [
      "F-value is: 314.10\n",
      "p-value is: 0.000\n"
     ]
    }
   ],
   "source": [
    "F = MSTR/MSE #F-value\n",
    "p = stats.f.sf(F, dft, dfe)\n",
    "\n",
    "print(\"F-value is: {:.2f}\".format(F))\n",
    "print(\"p-value is: {:.3f}\".format(p))"
   ]
  },
  {
   "cell_type": "markdown",
   "metadata": {},
   "source": [
    "## Effect sizes"
   ]
  },
  {
   "cell_type": "code",
   "execution_count": 39,
   "metadata": {},
   "outputs": [
    {
     "data": {
      "text/plain": [
       "0.98742544312564173"
      ]
     },
     "execution_count": 39,
     "metadata": {},
     "output_type": "execute_result"
    }
   ],
   "source": [
    "eta_sqr = SSTR/SST\n",
    "eta_sqr"
   ]
  },
  {
   "cell_type": "code",
   "execution_count": 40,
   "metadata": {},
   "outputs": [
    {
     "data": {
      "text/plain": [
       "0.98316400102902102"
      ]
     },
     "execution_count": 40,
     "metadata": {},
     "output_type": "execute_result"
    }
   ],
   "source": [
    "ome_sqr = (SSTR - (a*MSE))/ (SST+ n)\n",
    "ome_sqr"
   ]
  },
  {
   "cell_type": "markdown",
   "metadata": {},
   "source": [
    "## Check versus Built-in"
   ]
  },
  {
   "cell_type": "code",
   "execution_count": 41,
   "metadata": {},
   "outputs": [
    {
     "name": "stdout",
     "output_type": "stream",
     "text": [
      "F-value is: 314.10\n",
      "p-value is: 0.000\n"
     ]
    }
   ],
   "source": [
    "#Check versus built in\n",
    "from scipy import stats\n",
    "\n",
    "f_val, p_val = stats.f_oneway(cvd_pivot[8], cvd_pivot[10], cvd_pivot[12], cvd_pivot[14])  \n",
    "print(\"F-value is: {:.2f}\".format(f_val))\n",
    "print(\"p-value is: {:.3f}\".format(p_val))"
   ]
  },
  {
   "cell_type": "markdown",
   "metadata": {},
   "source": [
    "## Create Model"
   ]
  },
  {
   "cell_type": "code",
   "execution_count": 63,
   "metadata": {},
   "outputs": [
    {
     "data": {
      "text/plain": [
       "Power\n",
       "8     5002.130630\n",
       "10    5056.147187\n",
       "12    5104.755008\n",
       "14    5161.508171\n",
       "dtype: float64"
      ]
     },
     "execution_count": 63,
     "metadata": {},
     "output_type": "execute_result"
    }
   ],
   "source": [
    "## Point estimator of mu_i is mu_hat plus ti hat which is yi_bar\n",
    "## Mu hat is also y hat\n",
    "mu_hat = yi_avg\n",
    "mu_hat"
   ]
  },
  {
   "cell_type": "code",
   "execution_count": 64,
   "metadata": {
    "collapsed": true
   },
   "outputs": [],
   "source": [
    "##Determine treatment effects\n",
    "t_hat = mu_hat - y_avg"
   ]
  },
  {
   "cell_type": "markdown",
   "metadata": {},
   "source": [
    "## Compute Residuals"
   ]
  },
  {
   "cell_type": "code",
   "execution_count": 65,
   "metadata": {
    "collapsed": true
   },
   "outputs": [],
   "source": [
    "cvd_pivot_residuals = cvd_pivot.sub(mu_hat, axis = 1)"
   ]
  },
  {
   "cell_type": "code",
   "execution_count": 66,
   "metadata": {},
   "outputs": [
    {
     "data": {
      "text/html": [
       "<div>\n",
       "<style>\n",
       "    .dataframe thead tr:only-child th {\n",
       "        text-align: right;\n",
       "    }\n",
       "\n",
       "    .dataframe thead th {\n",
       "        text-align: left;\n",
       "    }\n",
       "\n",
       "    .dataframe tbody tr th {\n",
       "        vertical-align: top;\n",
       "    }\n",
       "</style>\n",
       "<table border=\"1\" class=\"dataframe\">\n",
       "  <thead>\n",
       "    <tr style=\"text-align: right;\">\n",
       "      <th>Power</th>\n",
       "      <th>8</th>\n",
       "      <th>10</th>\n",
       "      <th>12</th>\n",
       "      <th>14</th>\n",
       "    </tr>\n",
       "    <tr>\n",
       "      <th>RunID</th>\n",
       "      <th></th>\n",
       "      <th></th>\n",
       "      <th></th>\n",
       "      <th></th>\n",
       "    </tr>\n",
       "  </thead>\n",
       "  <tbody>\n",
       "    <tr>\n",
       "      <th>1</th>\n",
       "      <td>0.189389</td>\n",
       "      <td>14.358754</td>\n",
       "      <td>5.368556</td>\n",
       "      <td>2.345466</td>\n",
       "    </tr>\n",
       "    <tr>\n",
       "      <th>2</th>\n",
       "      <td>1.470827</td>\n",
       "      <td>-2.344125</td>\n",
       "      <td>-4.732715</td>\n",
       "      <td>-7.944964</td>\n",
       "    </tr>\n",
       "    <tr>\n",
       "      <th>3</th>\n",
       "      <td>-1.105955</td>\n",
       "      <td>-6.044396</td>\n",
       "      <td>3.918387</td>\n",
       "      <td>13.936017</td>\n",
       "    </tr>\n",
       "    <tr>\n",
       "      <th>4</th>\n",
       "      <td>-0.554260</td>\n",
       "      <td>-5.970233</td>\n",
       "      <td>-4.554228</td>\n",
       "      <td>-8.336520</td>\n",
       "    </tr>\n",
       "  </tbody>\n",
       "</table>\n",
       "</div>"
      ],
      "text/plain": [
       "Power        8          10        12         14\n",
       "RunID                                          \n",
       "1      0.189389  14.358754  5.368556   2.345466\n",
       "2      1.470827  -2.344125 -4.732715  -7.944964\n",
       "3     -1.105955  -6.044396  3.918387  13.936017\n",
       "4     -0.554260  -5.970233 -4.554228  -8.336520"
      ]
     },
     "execution_count": 66,
     "metadata": {},
     "output_type": "execute_result"
    }
   ],
   "source": [
    "cvd_pivot_residuals"
   ]
  },
  {
   "cell_type": "code",
   "execution_count": 67,
   "metadata": {},
   "outputs": [
    {
     "data": {
      "text/html": [
       "<div>\n",
       "<style>\n",
       "    .dataframe thead tr:only-child th {\n",
       "        text-align: right;\n",
       "    }\n",
       "\n",
       "    .dataframe thead th {\n",
       "        text-align: left;\n",
       "    }\n",
       "\n",
       "    .dataframe tbody tr th {\n",
       "        vertical-align: top;\n",
       "    }\n",
       "</style>\n",
       "<table border=\"1\" class=\"dataframe\">\n",
       "  <thead>\n",
       "    <tr style=\"text-align: right;\">\n",
       "      <th></th>\n",
       "      <th>Power</th>\n",
       "      <th>value</th>\n",
       "    </tr>\n",
       "  </thead>\n",
       "  <tbody>\n",
       "    <tr>\n",
       "      <th>0</th>\n",
       "      <td>8</td>\n",
       "      <td>0.189389</td>\n",
       "    </tr>\n",
       "    <tr>\n",
       "      <th>1</th>\n",
       "      <td>8</td>\n",
       "      <td>1.470827</td>\n",
       "    </tr>\n",
       "    <tr>\n",
       "      <th>2</th>\n",
       "      <td>8</td>\n",
       "      <td>-1.105955</td>\n",
       "    </tr>\n",
       "    <tr>\n",
       "      <th>3</th>\n",
       "      <td>8</td>\n",
       "      <td>-0.554260</td>\n",
       "    </tr>\n",
       "    <tr>\n",
       "      <th>4</th>\n",
       "      <td>10</td>\n",
       "      <td>14.358754</td>\n",
       "    </tr>\n",
       "    <tr>\n",
       "      <th>5</th>\n",
       "      <td>10</td>\n",
       "      <td>-2.344125</td>\n",
       "    </tr>\n",
       "    <tr>\n",
       "      <th>6</th>\n",
       "      <td>10</td>\n",
       "      <td>-6.044396</td>\n",
       "    </tr>\n",
       "    <tr>\n",
       "      <th>7</th>\n",
       "      <td>10</td>\n",
       "      <td>-5.970233</td>\n",
       "    </tr>\n",
       "    <tr>\n",
       "      <th>8</th>\n",
       "      <td>12</td>\n",
       "      <td>5.368556</td>\n",
       "    </tr>\n",
       "    <tr>\n",
       "      <th>9</th>\n",
       "      <td>12</td>\n",
       "      <td>-4.732715</td>\n",
       "    </tr>\n",
       "    <tr>\n",
       "      <th>10</th>\n",
       "      <td>12</td>\n",
       "      <td>3.918387</td>\n",
       "    </tr>\n",
       "    <tr>\n",
       "      <th>11</th>\n",
       "      <td>12</td>\n",
       "      <td>-4.554228</td>\n",
       "    </tr>\n",
       "    <tr>\n",
       "      <th>12</th>\n",
       "      <td>14</td>\n",
       "      <td>2.345466</td>\n",
       "    </tr>\n",
       "    <tr>\n",
       "      <th>13</th>\n",
       "      <td>14</td>\n",
       "      <td>-7.944964</td>\n",
       "    </tr>\n",
       "    <tr>\n",
       "      <th>14</th>\n",
       "      <td>14</td>\n",
       "      <td>13.936017</td>\n",
       "    </tr>\n",
       "    <tr>\n",
       "      <th>15</th>\n",
       "      <td>14</td>\n",
       "      <td>-8.336520</td>\n",
       "    </tr>\n",
       "  </tbody>\n",
       "</table>\n",
       "</div>"
      ],
      "text/plain": [
       "    Power      value\n",
       "0       8   0.189389\n",
       "1       8   1.470827\n",
       "2       8  -1.105955\n",
       "3       8  -0.554260\n",
       "4      10  14.358754\n",
       "5      10  -2.344125\n",
       "6      10  -6.044396\n",
       "7      10  -5.970233\n",
       "8      12   5.368556\n",
       "9      12  -4.732715\n",
       "10     12   3.918387\n",
       "11     12  -4.554228\n",
       "12     14   2.345466\n",
       "13     14  -7.944964\n",
       "14     14  13.936017\n",
       "15     14  -8.336520"
      ]
     },
     "execution_count": 67,
     "metadata": {},
     "output_type": "execute_result"
    }
   ],
   "source": [
    "# Melt back to plot\n",
    "cvd_pivot_residuals_melted = cvd_pivot_residuals.melt()\n",
    "cvd_pivot_residuals_melted"
   ]
  },
  {
   "cell_type": "code",
   "execution_count": 68,
   "metadata": {},
   "outputs": [
    {
     "data": {
      "text/plain": [
       "((array([-1.72352605, -1.26569652, -0.97848645, -0.75533862, -0.56472935,\n",
       "         -0.39279634, -0.23181469, -0.07666006,  0.07666006,  0.23181469,\n",
       "          0.39279634,  0.56472935,  0.75533862,  0.97848645,  1.26569652,\n",
       "          1.72352605]),\n",
       "  array([ -8.33652014,  -7.94496357,  -6.04439566,  -5.97023305,\n",
       "          -4.73271453,  -4.55422813,  -2.34412509,  -1.10595532,\n",
       "          -0.55426038,   0.18938883,   1.47082687,   2.34546622,\n",
       "           3.91838677,   5.36855589,  13.9360175 ,  14.3587538 ])),\n",
       " (6.9679028437325536, -5.8019446278472391e-16, 0.95434159239334748))"
      ]
     },
     "execution_count": 68,
     "metadata": {},
     "output_type": "execute_result"
    },
    {
     "data": {
      "image/png": "[encoded data removed]",
      "text/plain": [
       "<matplotlib.figure.Figure at 0x1c1eb096d8>"
      ]
     },
     "metadata": {},
     "output_type": "display_data"
    }
   ],
   "source": [
    "stats.probplot(cvd_pivot_residuals_melted['value'], plot=plt)\n",
    "\n",
    "#-> Looks good"
   ]
  },
  {
   "cell_type": "code",
   "execution_count": 69,
   "metadata": {
    "collapsed": true
   },
   "outputs": [],
   "source": [
    "cvd_predict_residual = cvd_pivot_residuals_melted"
   ]
  },
  {
   "cell_type": "code",
   "execution_count": 70,
   "metadata": {
    "collapsed": true
   },
   "outputs": [],
   "source": [
    "for power_setting, power_avg in mu_hat.iteritems():\n",
    "    cvd_predict_residual.loc[cvd_predict_residual['Power'] == power_setting, 'Power'] =\\\n",
    "    power_avg"
   ]
  },
  {
   "cell_type": "code",
   "execution_count": 71,
   "metadata": {},
   "outputs": [
    {
     "data": {
      "image/png": "[encoded data removed]",
      "text/plain": [
       "<matplotlib.figure.Figure at 0x1c1eb626d8>"
      ]
     },
     "metadata": {},
     "output_type": "display_data"
    }
   ],
   "source": [
    "plt.scatter(cvd_predict_residual['Power'], cvd_predict_residual['value'])\n",
    "plt.xlabel('Predicted Growth Rate')\n",
    "plt.ylabel('Residuals')\n",
    "plt.show()"
   ]
  },
  {
   "cell_type": "code",
   "execution_count": null,
   "metadata": {
    "collapsed": true
   },
   "outputs": [],
   "source": []
  }
 ],
 "metadata": {
  "kernelspec": {
   "display_name": "Python 3",
   "language": "python",
   "name": "python3"
  },
  "language_info": {
   "codemirror_mode": {
    "name": "ipython",
    "version": 3
   },
   "file_extension": ".py",
   "mimetype": "text/x-python",
   "name": "python",
   "nbconvert_exporter": "python",
   "pygments_lexer": "ipython3",
   "version": "3.6.3"
  }
 },
 "nbformat": 4,
 "nbformat_minor": 1
}
